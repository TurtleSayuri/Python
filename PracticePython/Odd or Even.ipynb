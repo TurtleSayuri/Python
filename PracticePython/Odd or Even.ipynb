{
 "cells": [
  {
   "cell_type": "code",
   "execution_count": 2,
   "metadata": {},
   "outputs": [],
   "source": [
    "#Ask the user for a number.\n",
    "#Depending on whether the number is even or odd,\n",
    "#print out an appropriate message to the user.\n",
    "#Hint: how does an even / odd number react differently when\n",
    "#divided by 2?\n",
    "\n"
   ]
  },
  {
   "cell_type": "code",
   "execution_count": 3,
   "metadata": {},
   "outputs": [
    {
     "name": "stdout",
     "output_type": "stream",
     "text": [
      "Enter a number: 4\n",
      "Your number is 4\n"
     ]
    }
   ],
   "source": [
    "number = int(input('Enter a number: '))\n",
    "if number < 1 or number == '':\n",
    "    print ('Invalid entry, try again')\n",
    "else:\n",
    "    print ('Your number is',number)"
   ]
  },
  {
   "cell_type": "code",
   "execution_count": 4,
   "metadata": {},
   "outputs": [
    {
     "name": "stdout",
     "output_type": "stream",
     "text": [
      "Your number is a multiple of 4.\n"
     ]
    }
   ],
   "source": [
    "a = (number % 4)\n",
    "if a == 0:\n",
    "    print ('Your number is a multiple of 4.')\n",
    "else:\n",
    "    print ('Your number is not a multiple of 4')"
   ]
  },
  {
   "cell_type": "code",
   "execution_count": 6,
   "metadata": {},
   "outputs": [
    {
     "name": "stdout",
     "output_type": "stream",
     "text": [
      "Your number is even.\n"
     ]
    }
   ],
   "source": [
    "b = (number % 2)\n",
    "if b == 0:\n",
    "    print ('Your number is even.')"
   ]
  },
  {
   "cell_type": "code",
   "execution_count": null,
   "metadata": {
    "collapsed": true
   },
   "outputs": [],
   "source": []
  },
  {
   "cell_type": "code",
   "execution_count": null,
   "metadata": {
    "collapsed": true
   },
   "outputs": [],
   "source": []
  }
 ],
 "metadata": {
  "kernelspec": {
   "display_name": "Python 3",
   "language": "python",
   "name": "python3"
  },
  "language_info": {
   "codemirror_mode": {
    "name": "ipython",
    "version": 3
   },
   "file_extension": ".py",
   "mimetype": "text/x-python",
   "name": "python",
   "nbconvert_exporter": "python",
   "pygments_lexer": "ipython3",
   "version": "3.6.3"
  }
 },
 "nbformat": 4,
 "nbformat_minor": 2
}
